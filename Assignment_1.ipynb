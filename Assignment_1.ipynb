{
 "cells": [
  {
   "cell_type": "code",
   "execution_count": null,
   "id": "f8338076-b001-470c-8b8c-d054024b37c9",
   "metadata": {},
   "outputs": [],
   "source": [
    "Q1. Who developed Python Programming language?\n",
    "Ans. Python was developed by Guido van Rossum."
   ]
  },
  {
   "cell_type": "code",
   "execution_count": null,
   "id": "fd75d86c-4505-4e2c-9c54-30582e318610",
   "metadata": {},
   "outputs": [],
   "source": [
    "Q2. Which type of Programming does Python support?\n",
    "Ans. Python is a multi programming paradigms.Object-oriented programming and structured\n",
    "programming are fully supported, and many of there features support functional programming."
   ]
  },
  {
   "cell_type": "code",
   "execution_count": null,
   "id": "543922ec-0354-4612-9d99-9763294feb00",
   "metadata": {},
   "outputs": [],
   "source": [
    "Q3. Is Python is case sensitive when dealing with identifiers?\n",
    "Ans. Yes,Python is a case sensitive language.It treats uppercase characters differently.This applies to identifiers\n",
    "too.You must avoid using the same name with different cases while naming identifiers."
   ]
  },
  {
   "cell_type": "code",
   "execution_count": null,
   "id": "6263129d-c475-4e73-9a1a-2f627203f664",
   "metadata": {},
   "outputs": [],
   "source": [
    "Q4. What is the correct extension of the python file?\n",
    "Ans. As every programming language has an extension,similary Python has an extension called(.py).All python files \n",
    "are stored in this extension,and you could also convert scripts into this extension."
   ]
  },
  {
   "cell_type": "code",
   "execution_count": null,
   "id": "5cffbcfd-500e-45e5-8515-28c1da6cc2c0",
   "metadata": {},
   "outputs": [],
   "source": [
    "Q5. Is python code compiled or interpreted?\n",
    "Ans. Python is an interpreted language,is the most common saying, which is also written in various book,\n",
    "but the hidden fact is Python is both compiled as well as an interpreted language.This means when we run a python code,it is first compiled\n",
    "and then interpreted line by line."
   ]
  },
  {
   "cell_type": "code",
   "execution_count": null,
   "id": "e4e3f8ac-6a1a-4605-a59b-52e096e96142",
   "metadata": {},
   "outputs": [],
   "source": [
    "Q6. Name a few blocks of code used to define in python language?\n",
    "Ans. If,else,elif,for,while they all are block of code used to define in python language."
   ]
  },
  {
   "cell_type": "code",
   "execution_count": null,
   "id": "06a21af5-117c-46de-a48b-73379a3b18fb",
   "metadata": {},
   "outputs": [],
   "source": [
    "Q7. State a character used to give a single-line comments in python?\n",
    "Ans. # character used to give a single-line comments in python."
   ]
  },
  {
   "cell_type": "code",
   "execution_count": null,
   "id": "f6fd76fa-6f5c-40d6-99a9-12bead476e74",
   "metadata": {},
   "outputs": [],
   "source": [
    "Q8. Mention functions which can help us to find the version of python that we are currently working on?\n",
    "Ans. The function sys. version can help us to find the version of python that we are currently working on."
   ]
  },
  {
   "cell_type": "code",
   "execution_count": null,
   "id": "44acaacd-69f0-4c03-ac83-ff96cffe150d",
   "metadata": {},
   "outputs": [],
   "source": [
    "Q9. Python supports the creation of anonymous functions at runtime,using a construct called.\n",
    "Ans. Python supports to make anonymous functions at runtime,using a construct called \"lambda\"."
   ]
  },
  {
   "cell_type": "code",
   "execution_count": null,
   "id": "ad474376-8dc9-431c-98a4-42c65c8bda54",
   "metadata": {},
   "outputs": [],
   "source": [
    "Q10. What does pip stand for python?\n",
    "Ans. Pip Stand for \"Preferred installer program\" in python. "
   ]
  },
  {
   "cell_type": "code",
   "execution_count": null,
   "id": "6e9824da-583e-45c2-a8ae-e973df9b97e2",
   "metadata": {},
   "outputs": [],
   "source": [
    "Q11. Mention a few built-in functions in python?\n",
    "Ans. The built-in functions in python is len(),upper(),lower(),type(),count(),find(),title()."
   ]
  },
  {
   "cell_type": "code",
   "execution_count": null,
   "id": "4a3922a5-125c-4288-b44f-7f0631796a68",
   "metadata": {},
   "outputs": [],
   "source": [
    "Q12. What is the maximum possible length of an identifiers in python?\n",
    "Ans.  An identifier can have a maximum length of 79 characters in Python. "
   ]
  },
  {
   "cell_type": "code",
   "execution_count": null,
   "id": "5db3dec4-b667-4943-9809-5db8803786e4",
   "metadata": {},
   "outputs": [],
   "source": [
    "Q13. What are the benefits of using Python?\n",
    "Ans. 1.Easy to learn and use.\n",
    "     2.Hundreds of python libraries and frameworks\n",
    "     3.Reliable and speed."
   ]
  },
  {
   "cell_type": "code",
   "execution_count": null,
   "id": "368abe8d-2fc0-42cf-ab34-020066100f17",
   "metadata": {},
   "outputs": [],
   "source": [
    "Q14. How is memory managed in python?\n",
    "Ans. Memory management in Python involves a private heap containing all Python objects and data structures. \n",
    "The management of this private heap is ensured internally by the Python memory manager."
   ]
  },
  {
   "cell_type": "code",
   "execution_count": null,
   "id": "30acf221-5ddb-4b53-9302-d00435c2d183",
   "metadata": {},
   "outputs": [],
   "source": [
    "Q15. How to install Python on windows and set path variable?\n",
    "Ans. Install python from this link https://www.python.org/downloads/\n",
    "After this, install it on your PC. Look for the location where PYTHON has been installed on your PC using \n",
    "tge following command on your command prompt: cmd python.\n",
    "Then go to advanced system settings and add new variable and name it as PYTHON_NAME and paste the copied path.\n",
    "Then look for the path variable, select it's value and select edit\n",
    "Add a semicolon towards the end of the value if it's not present and then type %PYTHON_HOME%"
   ]
  },
  {
   "cell_type": "code",
   "execution_count": null,
   "id": "09bf055e-195f-40c0-b4ea-7cb2faab6f90",
   "metadata": {},
   "outputs": [],
   "source": [
    "Q16. Is indentation required in python?\n",
    "Ans. Indentation refers to the spaces at the beginning of a code line. Where in other programming languages \n",
    "the indentation in code is for readability only, the indentation in Python is very important. Python uses \n",
    "indentation to indicate a block of code."
   ]
  }
 ],
 "metadata": {
  "kernelspec": {
   "display_name": "Python 3 (ipykernel)",
   "language": "python",
   "name": "python3"
  },
  "language_info": {
   "codemirror_mode": {
    "name": "ipython",
    "version": 3
   },
   "file_extension": ".py",
   "mimetype": "text/x-python",
   "name": "python",
   "nbconvert_exporter": "python",
   "pygments_lexer": "ipython3",
   "version": "3.10.8"
  }
 },
 "nbformat": 4,
 "nbformat_minor": 5
}
